{
 "cells": [
  {
   "cell_type": "code",
   "execution_count": 1,
   "id": "a535ce44-9dda-4517-ac99-69ffef685b4b",
   "metadata": {},
   "outputs": [],
   "source": [
    "import numpy as np\n",
    "import pandas as pd\n",
    "import matplotlib.pyplot as plt\n",
    "import copy"
   ]
  },
  {
   "cell_type": "code",
   "execution_count": 2,
   "id": "68003c85-071f-4048-a3bd-0776dca8478b",
   "metadata": {},
   "outputs": [],
   "source": [
    "# Our dataset is a 1-D dataset : \n",
    "df = pd.read_csv('Salary_dataset.csv')\n",
    "\n",
    "# We will predict the salary of a person based on their Experience"
   ]
  },
  {
   "cell_type": "markdown",
   "id": "54396cf2-7e0c-4442-a236-e361dcf9e7f0",
   "metadata": {},
   "source": [
    "# 1. Data Preprocessing"
   ]
  },
  {
   "cell_type": "code",
   "execution_count": 3,
   "id": "facd8fdd-7898-4a6f-8667-9bb9faaae25f",
   "metadata": {},
   "outputs": [
    {
     "data": {
      "text/html": [
       "<div>\n",
       "<style scoped>\n",
       "    .dataframe tbody tr th:only-of-type {\n",
       "        vertical-align: middle;\n",
       "    }\n",
       "\n",
       "    .dataframe tbody tr th {\n",
       "        vertical-align: top;\n",
       "    }\n",
       "\n",
       "    .dataframe thead th {\n",
       "        text-align: right;\n",
       "    }\n",
       "</style>\n",
       "<table border=\"1\" class=\"dataframe\">\n",
       "  <thead>\n",
       "    <tr style=\"text-align: right;\">\n",
       "      <th></th>\n",
       "      <th>Unnamed: 0</th>\n",
       "      <th>YearsExperience</th>\n",
       "      <th>Salary</th>\n",
       "    </tr>\n",
       "  </thead>\n",
       "  <tbody>\n",
       "    <tr>\n",
       "      <th>0</th>\n",
       "      <td>0</td>\n",
       "      <td>1.2</td>\n",
       "      <td>39344.0</td>\n",
       "    </tr>\n",
       "    <tr>\n",
       "      <th>1</th>\n",
       "      <td>1</td>\n",
       "      <td>1.4</td>\n",
       "      <td>46206.0</td>\n",
       "    </tr>\n",
       "    <tr>\n",
       "      <th>2</th>\n",
       "      <td>2</td>\n",
       "      <td>1.6</td>\n",
       "      <td>37732.0</td>\n",
       "    </tr>\n",
       "    <tr>\n",
       "      <th>3</th>\n",
       "      <td>3</td>\n",
       "      <td>2.1</td>\n",
       "      <td>43526.0</td>\n",
       "    </tr>\n",
       "    <tr>\n",
       "      <th>4</th>\n",
       "      <td>4</td>\n",
       "      <td>2.3</td>\n",
       "      <td>39892.0</td>\n",
       "    </tr>\n",
       "  </tbody>\n",
       "</table>\n",
       "</div>"
      ],
      "text/plain": [
       "   Unnamed: 0  YearsExperience   Salary\n",
       "0           0              1.2  39344.0\n",
       "1           1              1.4  46206.0\n",
       "2           2              1.6  37732.0\n",
       "3           3              2.1  43526.0\n",
       "4           4              2.3  39892.0"
      ]
     },
     "execution_count": 3,
     "metadata": {},
     "output_type": "execute_result"
    }
   ],
   "source": [
    "df.head()"
   ]
  },
  {
   "cell_type": "markdown",
   "id": "3804b3f9-5a0d-46bb-b94d-a7335e33471c",
   "metadata": {},
   "source": [
    "Dropping the extra serial number coloumn"
   ]
  },
  {
   "cell_type": "code",
   "execution_count": 4,
   "id": "1d32a9f7-26cd-43b8-ae8f-b06df5951e5d",
   "metadata": {},
   "outputs": [],
   "source": [
    "#we do not require the Unnamed:0 coloumn as it is the copy of the serial numbers\n",
    "df = pd.read_csv('Salary_dataset.csv',usecols=['YearsExperience','Salary'])"
   ]
  },
  {
   "cell_type": "code",
   "execution_count": 5,
   "id": "f4041d5c-6883-438e-81b8-050e2571f06a",
   "metadata": {},
   "outputs": [
    {
     "data": {
      "text/html": [
       "<div>\n",
       "<style scoped>\n",
       "    .dataframe tbody tr th:only-of-type {\n",
       "        vertical-align: middle;\n",
       "    }\n",
       "\n",
       "    .dataframe tbody tr th {\n",
       "        vertical-align: top;\n",
       "    }\n",
       "\n",
       "    .dataframe thead th {\n",
       "        text-align: right;\n",
       "    }\n",
       "</style>\n",
       "<table border=\"1\" class=\"dataframe\">\n",
       "  <thead>\n",
       "    <tr style=\"text-align: right;\">\n",
       "      <th></th>\n",
       "      <th>YearsExperience</th>\n",
       "      <th>Salary</th>\n",
       "    </tr>\n",
       "  </thead>\n",
       "  <tbody>\n",
       "    <tr>\n",
       "      <th>0</th>\n",
       "      <td>1.2</td>\n",
       "      <td>39344.0</td>\n",
       "    </tr>\n",
       "    <tr>\n",
       "      <th>1</th>\n",
       "      <td>1.4</td>\n",
       "      <td>46206.0</td>\n",
       "    </tr>\n",
       "    <tr>\n",
       "      <th>2</th>\n",
       "      <td>1.6</td>\n",
       "      <td>37732.0</td>\n",
       "    </tr>\n",
       "    <tr>\n",
       "      <th>3</th>\n",
       "      <td>2.1</td>\n",
       "      <td>43526.0</td>\n",
       "    </tr>\n",
       "    <tr>\n",
       "      <th>4</th>\n",
       "      <td>2.3</td>\n",
       "      <td>39892.0</td>\n",
       "    </tr>\n",
       "  </tbody>\n",
       "</table>\n",
       "</div>"
      ],
      "text/plain": [
       "   YearsExperience   Salary\n",
       "0              1.2  39344.0\n",
       "1              1.4  46206.0\n",
       "2              1.6  37732.0\n",
       "3              2.1  43526.0\n",
       "4              2.3  39892.0"
      ]
     },
     "execution_count": 5,
     "metadata": {},
     "output_type": "execute_result"
    }
   ],
   "source": [
    "df.head()"
   ]
  },
  {
   "cell_type": "code",
   "execution_count": 6,
   "id": "6b0edf27-9b35-46db-81bf-d39ed3d33e93",
   "metadata": {},
   "outputs": [
    {
     "name": "stdout",
     "output_type": "stream",
     "text": [
      "<class 'pandas.core.frame.DataFrame'>\n",
      "RangeIndex: 30 entries, 0 to 29\n",
      "Data columns (total 2 columns):\n",
      " #   Column           Non-Null Count  Dtype  \n",
      "---  ------           --------------  -----  \n",
      " 0   YearsExperience  30 non-null     float64\n",
      " 1   Salary           30 non-null     float64\n",
      "dtypes: float64(2)\n",
      "memory usage: 612.0 bytes\n"
     ]
    }
   ],
   "source": [
    "df.info()"
   ]
  },
  {
   "cell_type": "markdown",
   "id": "e72d7cb5-dd28-4e76-aa5c-a8bf439f4b32",
   "metadata": {},
   "source": [
    "We do not have any missing values in the dataset."
   ]
  },
  {
   "cell_type": "code",
   "execution_count": 7,
   "id": "c6fdc803-cd49-4f63-a1a9-88c8bfc11bcc",
   "metadata": {},
   "outputs": [
    {
     "data": {
      "text/html": [
       "<div>\n",
       "<style scoped>\n",
       "    .dataframe tbody tr th:only-of-type {\n",
       "        vertical-align: middle;\n",
       "    }\n",
       "\n",
       "    .dataframe tbody tr th {\n",
       "        vertical-align: top;\n",
       "    }\n",
       "\n",
       "    .dataframe thead th {\n",
       "        text-align: right;\n",
       "    }\n",
       "</style>\n",
       "<table border=\"1\" class=\"dataframe\">\n",
       "  <thead>\n",
       "    <tr style=\"text-align: right;\">\n",
       "      <th></th>\n",
       "      <th>YearsExperience</th>\n",
       "      <th>Salary</th>\n",
       "    </tr>\n",
       "  </thead>\n",
       "  <tbody>\n",
       "    <tr>\n",
       "      <th>count</th>\n",
       "      <td>30.000000</td>\n",
       "      <td>30.000000</td>\n",
       "    </tr>\n",
       "    <tr>\n",
       "      <th>mean</th>\n",
       "      <td>5.413333</td>\n",
       "      <td>76004.000000</td>\n",
       "    </tr>\n",
       "    <tr>\n",
       "      <th>std</th>\n",
       "      <td>2.837888</td>\n",
       "      <td>27414.429785</td>\n",
       "    </tr>\n",
       "    <tr>\n",
       "      <th>min</th>\n",
       "      <td>1.200000</td>\n",
       "      <td>37732.000000</td>\n",
       "    </tr>\n",
       "    <tr>\n",
       "      <th>25%</th>\n",
       "      <td>3.300000</td>\n",
       "      <td>56721.750000</td>\n",
       "    </tr>\n",
       "    <tr>\n",
       "      <th>50%</th>\n",
       "      <td>4.800000</td>\n",
       "      <td>65238.000000</td>\n",
       "    </tr>\n",
       "    <tr>\n",
       "      <th>75%</th>\n",
       "      <td>7.800000</td>\n",
       "      <td>100545.750000</td>\n",
       "    </tr>\n",
       "    <tr>\n",
       "      <th>max</th>\n",
       "      <td>10.600000</td>\n",
       "      <td>122392.000000</td>\n",
       "    </tr>\n",
       "  </tbody>\n",
       "</table>\n",
       "</div>"
      ],
      "text/plain": [
       "       YearsExperience         Salary\n",
       "count        30.000000      30.000000\n",
       "mean          5.413333   76004.000000\n",
       "std           2.837888   27414.429785\n",
       "min           1.200000   37732.000000\n",
       "25%           3.300000   56721.750000\n",
       "50%           4.800000   65238.000000\n",
       "75%           7.800000  100545.750000\n",
       "max          10.600000  122392.000000"
      ]
     },
     "execution_count": 7,
     "metadata": {},
     "output_type": "execute_result"
    }
   ],
   "source": [
    "df.describe()"
   ]
  },
  {
   "cell_type": "markdown",
   "id": "d1b15edd-4f6f-4ee6-9698-2e8b9f86d15e",
   "metadata": {},
   "source": [
    "No abnormalities in our dataset."
   ]
  },
  {
   "cell_type": "code",
   "execution_count": 8,
   "id": "1c74ca2f-8c05-481d-9a56-d7d66319ce73",
   "metadata": {},
   "outputs": [
    {
     "data": {
      "text/plain": [
       "0"
      ]
     },
     "execution_count": 8,
     "metadata": {},
     "output_type": "execute_result"
    }
   ],
   "source": [
    "df.duplicated().sum()"
   ]
  },
  {
   "cell_type": "markdown",
   "id": "e4824edf-7d9f-4063-af6a-615567d2dcc1",
   "metadata": {},
   "source": [
    "No duplicated data present."
   ]
  },
  {
   "cell_type": "code",
   "execution_count": null,
   "id": "9f67e0f7-3dee-49d0-94e3-a13ef7e095a8",
   "metadata": {},
   "outputs": [],
   "source": []
  },
  {
   "cell_type": "markdown",
   "id": "4e87e109-b89c-4507-becc-d084b0d4c8e7",
   "metadata": {},
   "source": [
    "# 2. Building our Simple Linear Regression Model"
   ]
  },
  {
   "cell_type": "code",
   "execution_count": 9,
   "id": "ec9946c0-82f2-4eff-8607-1a30c4d8b7a5",
   "metadata": {},
   "outputs": [
    {
     "data": {
      "text/plain": [
       "array([ 1.2,  1.4,  1.6,  2.1,  2.3,  3. ,  3.1,  3.3,  3.3,  3.8,  4. ,\n",
       "        4.1,  4.1,  4.2,  4.6,  5. ,  5.2,  5.4,  6. ,  6.1,  6.9,  7.2,\n",
       "        8. ,  8.3,  8.8,  9.1,  9.6,  9.7, 10.4, 10.6])"
      ]
     },
     "execution_count": 9,
     "metadata": {},
     "output_type": "execute_result"
    }
   ],
   "source": [
    "X = df.iloc[:,0].values\n",
    "X"
   ]
  },
  {
   "cell_type": "code",
   "execution_count": 10,
   "id": "f649fcfc-6eca-4d04-bc17-98ae9e4896fc",
   "metadata": {},
   "outputs": [
    {
     "data": {
      "text/plain": [
       "array([ 39344.,  46206.,  37732.,  43526.,  39892.,  56643.,  60151.,\n",
       "        54446.,  64446.,  57190.,  63219.,  55795.,  56958.,  57082.,\n",
       "        61112.,  67939.,  66030.,  83089.,  81364.,  93941.,  91739.,\n",
       "        98274., 101303., 113813., 109432., 105583., 116970., 112636.,\n",
       "       122392., 121873.])"
      ]
     },
     "execution_count": 10,
     "metadata": {},
     "output_type": "execute_result"
    }
   ],
   "source": [
    "y = df.iloc[:,-1].values\n",
    "y"
   ]
  },
  {
   "cell_type": "code",
   "execution_count": 11,
   "id": "eea8ad61-5d57-4a11-993a-2e1cf7ffd3ba",
   "metadata": {},
   "outputs": [],
   "source": [
    "from sklearn.model_selection import train_test_split\n",
    "X_train,X_test,y_train,y_test = train_test_split(X,y,test_size=0.2,random_state=2)"
   ]
  },
  {
   "cell_type": "code",
   "execution_count": 12,
   "id": "1bc7bf7b-fde4-473d-a561-558dbaf5ae0a",
   "metadata": {},
   "outputs": [
    {
     "data": {
      "image/png": "[encoded data removed]",
      "text/plain": [
       "<Figure size 640x480 with 1 Axes>"
      ]
     },
     "metadata": {},
     "output_type": "display_data"
    }
   ],
   "source": [
    "# Visualising our data\n",
    "\n",
    "plt.scatter(X_train, y_train, marker='x', c='r') \n",
    "\n",
    "plt.title(\"Salary vs Yoe\")\n",
    "plt.ylabel('Salaray of the employee')\n",
    "plt.xlabel('Years of Experience')\n",
    "plt.show()"
   ]
  },
  {
   "cell_type": "markdown",
   "id": "959e6844-68b1-441f-828e-ac8e4b39ebbd",
   "metadata": {},
   "source": [
    "We can observe that our data follows a linear line, So we can definitely try linear regression here."
   ]
  },
  {
   "cell_type": "code",
   "execution_count": 13,
   "id": "e7d41f01-da6a-4072-b646-6aed2550e0e8",
   "metadata": {},
   "outputs": [],
   "source": [
    "# We will define our cost function\n",
    "\n",
    "def cost_fn(X,y,w,b):\n",
    "    \n",
    "    total_cost = 0 \n",
    "    m = X.shape[0] #getting the number of examples\n",
    "\n",
    "    curr_cost = 0\n",
    "    for i in range(m):\n",
    "        \n",
    "        yhat = w*X[i] + b # our prediction yhat\n",
    "        curr_cost += (yhat-y[i])**2 # squared error cost\n",
    "\n",
    "    total_cost = curr_cost/(2*m) #squared error cost function\n",
    "\n",
    "    return total_cost"
   ]
  },
  {
   "cell_type": "code",
   "execution_count": 14,
   "id": "d6a0632e-ec8e-4b11-8937-f3e05de1cbfe",
   "metadata": {},
   "outputs": [],
   "source": [
    "#We will define the function to get the gradeints dJ/dw and dJ/db\n",
    "def find_grad(X,y,w,b):\n",
    "\n",
    "    dj_dw = 0\n",
    "    dj_db = 0\n",
    "    m = X.shape[0]\n",
    "\n",
    "    for i in range(m):\n",
    "        yhat = w*X[i] + b\n",
    "        dj_db += yhat - y[i]\n",
    "        dj_dw += (yhat-y[i])*X[i]\n",
    "\n",
    "    dj_dw  = dj_dw/m\n",
    "    dj_db = dj_db/m\n",
    "\n",
    "    return dj_dw,dj_db\n",
    "\n",
    "    "
   ]
  },
  {
   "cell_type": "code",
   "execution_count": 15,
   "id": "6b6b4118-1bc5-44f6-8bb7-c29c3364adc7",
   "metadata": {},
   "outputs": [],
   "source": [
    "#We will now learn and find the parameters w and b using Batch Gradient Descent\n",
    "\n",
    "def gradient_descent(X, y, w_initial, b_initial, cost_function, computing_gradient, alpha, num_iterations):\n",
    "\n",
    "    m = len(X)\n",
    "\n",
    "    # #storing costs and w value every few steps (for graphing)\n",
    "    # J_vals = []\n",
    "    # w_vals = []\n",
    "    \n",
    "    w = copy.deepcopy(w_initial)\n",
    "    b = b_initial\n",
    "\n",
    "    for i in range(num_iterations):\n",
    "\n",
    "        dj_dw,dj_db = computing_gradient(X,y,w,b)\n",
    "\n",
    "        #update step in gradient descent\n",
    "        w = w - alpha*dj_dw\n",
    "        b = b - alpha*dj_db\n",
    "\n",
    "        cost = cost_function(X,y,w,b)\n",
    "        # J_vals.append(cost)\n",
    "        # w_vals.append(w)\n",
    "\n",
    "        #printing cost every few iterations(10% of total iters) to see if batch GD is working or not\n",
    "        if num_iterations < 10 or i%max(1,num_iterations//10) == 0:\n",
    "            print(f\"Iteration no. {i+1:4}: Cost {cost:8.2f}\")\n",
    "\n",
    "    return w, b"
   ]
  },
  {
   "cell_type": "code",
   "execution_count": null,
   "id": "4848c6a6-cd4a-4670-9bd0-655cd9caff01",
   "metadata": {},
   "outputs": [],
   "source": []
  },
  {
   "cell_type": "code",
   "execution_count": null,
   "id": "29bad938-b068-464d-960d-2ea10bdedb9e",
   "metadata": {},
   "outputs": [],
   "source": []
  },
  {
   "cell_type": "code",
   "execution_count": 16,
   "id": "1e924b56-552c-4406-ab71-1a822434387b",
   "metadata": {},
   "outputs": [
    {
     "name": "stdout",
     "output_type": "stream",
     "text": [
      "Iteration no.    1: Cost 1207735439.71\n",
      "Iteration no.  101: Cost 43833281.27\n",
      "Iteration no.  201: Cost 34099355.18\n",
      "Iteration no.  301: Cost 27434507.76\n",
      "Iteration no.  401: Cost 22871067.42\n",
      "Iteration no.  501: Cost 19746466.60\n",
      "Iteration no.  601: Cost 17607043.35\n",
      "Iteration no.  701: Cost 16142174.06\n",
      "Iteration no.  801: Cost 15139173.80\n",
      "Iteration no.  901: Cost 14452416.62\n"
     ]
    }
   ],
   "source": [
    "# Let us test our Linear Regression\n",
    "w_initial = 0.\n",
    "b_initial = 0.\n",
    "\n",
    "num_iterations = 1000\n",
    "alpha = 0.01\n",
    "\n",
    "w,b = gradient_descent(X_train,y_train,w_initial,b_initial,cost_fn,find_grad,alpha,num_iterations)"
   ]
  },
  {
   "cell_type": "markdown",
   "id": "275aa9db-f32b-4664-81b7-3b0d39526b1e",
   "metadata": {},
   "source": [
    "We can observe that the cost is not minimizing after some iterations, the reason for this is that the data is not normalized\n",
    "\n",
    "Y_train has values ranging from 40000 to 100000+, this causes the algorithim to behave differently.\n",
    "\n",
    "We will now Normalize our data and check the results"
   ]
  },
  {
   "cell_type": "code",
   "execution_count": 17,
   "id": "468bce29-86ac-41e6-bf35-45774a80c68e",
   "metadata": {},
   "outputs": [
    {
     "name": "stdout",
     "output_type": "stream",
     "text": [
      "Iteration no.    1: Cost     0.49\n",
      "Iteration no.  101: Cost     0.08\n",
      "Iteration no.  201: Cost     0.03\n",
      "Iteration no.  301: Cost     0.02\n",
      "Iteration no.  401: Cost     0.02\n",
      "Iteration no.  501: Cost     0.02\n",
      "Iteration no.  601: Cost     0.02\n",
      "Iteration no.  701: Cost     0.02\n",
      "Iteration no.  801: Cost     0.02\n",
      "Iteration no.  901: Cost     0.02\n"
     ]
    }
   ],
   "source": [
    "# Normalizing our dataset \n",
    "X_train_norm = (X_train - np.mean(X_train)) / np.std(X_train)\n",
    "y_mean = np.mean(y_train)\n",
    "y_std = np.std(y_train)\n",
    "y_train_norm = (y_train - y_mean) / y_std\n",
    "\n",
    "# Let us test our Linear Regression\n",
    "w_initial = 0.\n",
    "b_initial = 0.\n",
    "\n",
    "num_iterations = 1000\n",
    "alpha = 0.01\n",
    "\n",
    "w,b = gradient_descent(X_train_norm,y_train_norm,w_initial,b_initial,cost_fn,find_grad,alpha,num_iterations)"
   ]
  },
  {
   "cell_type": "code",
   "execution_count": 18,
   "id": "70beb0a7-bbbc-4da1-b7bd-e96c64588de3",
   "metadata": {},
   "outputs": [],
   "source": [
    "m = X_train.shape[0]\n",
    "predicted = np.zeros(m)\n",
    "\n",
    "for i in range(m):\n",
    "    predicted[i] = w * X_train_norm[i] + b"
   ]
  },
  {
   "cell_type": "code",
   "execution_count": 19,
   "id": "46b67099-be4b-4b03-be42-f7a10f9c9f9e",
   "metadata": {},
   "outputs": [
    {
     "data": {
      "text/plain": [
       "Text(0, 0.5, 'Salary')"
      ]
     },
     "execution_count": 19,
     "metadata": {},
     "output_type": "execute_result"
    },
    {
     "data": {
      "image/png": "[encoded data removed]",
      "text/plain": [
       "<Figure size 640x480 with 1 Axes>"
      ]
     },
     "metadata": {},
     "output_type": "display_data"
    }
   ],
   "source": [
    "#Plotting the linear fit\n",
    "plt.plot(X_train_norm,predicted,c=\"b\")\n",
    "\n",
    "#scatter plot of the data\n",
    "plt.scatter(X_train_norm,y_train_norm,marker='x',c=\"r\")\n",
    "\n",
    "plt.title(\"Salary vs YoE(Normalized data)\")\n",
    "plt.xlabel(\"Years of Experience\")\n",
    "plt.ylabel(\"Salary\")\n"
   ]
  },
  {
   "cell_type": "markdown",
   "id": "f8663de9-f6dd-4a6a-8cce-9c2457c71b0d",
   "metadata": {},
   "source": [
    "Converting the normalized coefficients to actual data coefficients "
   ]
  },
  {
   "cell_type": "code",
   "execution_count": 20,
   "id": "e3a51404-d486-4bea-9c95-6848cb684396",
   "metadata": {},
   "outputs": [
    {
     "data": {
      "text/plain": [
       "Text(0, 0.5, 'Salary')"
      ]
     },
     "execution_count": 20,
     "metadata": {},
     "output_type": "execute_result"
    },
    {
     "data": {
      "image/png": "[encoded data removed]",
      "text/plain": [
       "<Figure size 640x480 with 1 Axes>"
      ]
     },
     "metadata": {},
     "output_type": "display_data"
    }
   ],
   "source": [
    "X_mean = np.mean(X_train)\n",
    "X_std = np.std(X_train)\n",
    "\n",
    "y_mean = np.mean(y_train)\n",
    "y_std = np.std(y_train)\n",
    "\n",
    "w_actual = w * (y_std / X_std)\n",
    "b_actual = (-w * X_mean / X_std * y_std) + (b * y_std) + y_mean\n",
    "\n",
    "m = X_train.shape[0]\n",
    "predicted_actual = np.zeros(m)\n",
    "\n",
    "for i in range(m):\n",
    "    predicted_actual[i] = w_actual * X_train[i] + b_actual\n",
    "\n",
    "#Plotting the linear fit\n",
    "plt.plot(X_train,predicted_actual,c=\"b\")\n",
    "\n",
    "#scatter plot of the data\n",
    "plt.scatter(X_train,y_train,marker='x',c=\"r\")\n",
    "\n",
    "plt.title(\"Salary vs YoE (Actual data)\")\n",
    "plt.xlabel(\"Years of Experience\")\n",
    "plt.ylabel(\"Salary\")\n"
   ]
  },
  {
   "cell_type": "code",
   "execution_count": null,
   "id": "248953a5-743e-4b39-8b82-d8e29775f14e",
   "metadata": {},
   "outputs": [],
   "source": []
  }
 ],
 "metadata": {
  "kernelspec": {
   "display_name": "Python 3 (ipykernel)",
   "language": "python",
   "name": "python3"
  },
  "language_info": {
   "codemirror_mode": {
    "name": "ipython",
    "version": 3
   },
   "file_extension": ".py",
   "mimetype": "text/x-python",
   "name": "python",
   "nbconvert_exporter": "python",
   "pygments_lexer": "ipython3",
   "version": "3.12.7"
  }
 },
 "nbformat": 4,
 "nbformat_minor": 5
}
